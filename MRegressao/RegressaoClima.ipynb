{
 "cells": [
  {
   "cell_type": "markdown",
   "metadata": {},
   "source": [
    "# <font color='blue'>Machine Learning</font>\n",
    "\n",
    "# <font color='blue'>Regressão</font>"
   ]
  },
  {
   "cell_type": "markdown",
   "metadata": {},
   "source": [
    "#### Exercício: \n",
    "\n",
    "Parte 1: Código para a fórmula básica da regressão linear simples, calculando os coeficientes. \n",
    "\n",
    "Parte 2: Modelo de previsões."
   ]
  },
  {
   "cell_type": "markdown",
   "metadata": {},
   "source": [
    "O dataset abaixo contém dados sobre..."
   ]
  },
  {
   "cell_type": "code",
   "execution_count": 2,
   "metadata": {},
   "outputs": [],
   "source": [
    "# Imports\n",
    "import numpy as np\n",
    "import pandas as pd\n",
    "import matplotlib.pyplot as plt"
   ]
  },
  {
   "cell_type": "code",
   "execution_count": 3,
   "metadata": {},
   "outputs": [
    {
     "data": {
      "text/html": [
       "<div>\n",
       "<style scoped>\n",
       "    .dataframe tbody tr th:only-of-type {\n",
       "        vertical-align: middle;\n",
       "    }\n",
       "\n",
       "    .dataframe tbody tr th {\n",
       "        vertical-align: top;\n",
       "    }\n",
       "\n",
       "    .dataframe thead th {\n",
       "        text-align: right;\n",
       "    }\n",
       "</style>\n",
       "<table border=\"1\" class=\"dataframe\">\n",
       "  <thead>\n",
       "    <tr style=\"text-align: right;\">\n",
       "      <th></th>\n",
       "      <th>ano</th>\n",
       "      <th>mes</th>\n",
       "      <th>chuva</th>\n",
       "      <th>evaporacao</th>\n",
       "      <th>insolacao</th>\n",
       "      <th>tempmed</th>\n",
       "      <th>umidrel</th>\n",
       "      <th>tempmax_abs</th>\n",
       "      <th>tempmax_med</th>\n",
       "      <th>tempmin_abs</th>\n",
       "      <th>tempmin_med</th>\n",
       "    </tr>\n",
       "  </thead>\n",
       "  <tbody>\n",
       "    <tr>\n",
       "      <th>0</th>\n",
       "      <td>1975.0</td>\n",
       "      <td>1.0</td>\n",
       "      <td>136.0</td>\n",
       "      <td>134.9</td>\n",
       "      <td>224.7</td>\n",
       "      <td>24.2</td>\n",
       "      <td>70.9</td>\n",
       "      <td>34.4</td>\n",
       "      <td>30.7</td>\n",
       "      <td>14.6</td>\n",
       "      <td>18.9</td>\n",
       "    </tr>\n",
       "    <tr>\n",
       "      <th>1</th>\n",
       "      <td>1975.0</td>\n",
       "      <td>2.0</td>\n",
       "      <td>242.9</td>\n",
       "      <td>104.4</td>\n",
       "      <td>195.3</td>\n",
       "      <td>25.3</td>\n",
       "      <td>76.9</td>\n",
       "      <td>36.2</td>\n",
       "      <td>30.4</td>\n",
       "      <td>16.8</td>\n",
       "      <td>21.1</td>\n",
       "    </tr>\n",
       "    <tr>\n",
       "      <th>2</th>\n",
       "      <td>1975.0</td>\n",
       "      <td>3.0</td>\n",
       "      <td>125.1</td>\n",
       "      <td>101.1</td>\n",
       "      <td>192.8</td>\n",
       "      <td>23.9</td>\n",
       "      <td>79.1</td>\n",
       "      <td>33.7</td>\n",
       "      <td>29.9</td>\n",
       "      <td>17.3</td>\n",
       "      <td>19.7</td>\n",
       "    </tr>\n",
       "    <tr>\n",
       "      <th>3</th>\n",
       "      <td>1975.0</td>\n",
       "      <td>4.0</td>\n",
       "      <td>98.9</td>\n",
       "      <td>156.8</td>\n",
       "      <td>201.5</td>\n",
       "      <td>21.0</td>\n",
       "      <td>75.0</td>\n",
       "      <td>30.6</td>\n",
       "      <td>26.8</td>\n",
       "      <td>13.4</td>\n",
       "      <td>16.8</td>\n",
       "    </tr>\n",
       "    <tr>\n",
       "      <th>4</th>\n",
       "      <td>1975.0</td>\n",
       "      <td>5.0</td>\n",
       "      <td>66.3</td>\n",
       "      <td>95.5</td>\n",
       "      <td>203.6</td>\n",
       "      <td>18.1</td>\n",
       "      <td>72.1</td>\n",
       "      <td>29.0</td>\n",
       "      <td>23.8</td>\n",
       "      <td>9.0</td>\n",
       "      <td>14.3</td>\n",
       "    </tr>\n",
       "  </tbody>\n",
       "</table>\n",
       "</div>"
      ],
      "text/plain": [
       "      ano  mes  chuva  evaporacao  insolacao  tempmed  umidrel  tempmax_abs  \\\n",
       "0  1975.0  1.0  136.0       134.9      224.7     24.2     70.9         34.4   \n",
       "1  1975.0  2.0  242.9       104.4      195.3     25.3     76.9         36.2   \n",
       "2  1975.0  3.0  125.1       101.1      192.8     23.9     79.1         33.7   \n",
       "3  1975.0  4.0   98.9       156.8      201.5     21.0     75.0         30.6   \n",
       "4  1975.0  5.0   66.3        95.5      203.6     18.1     72.1         29.0   \n",
       "\n",
       "   tempmax_med  tempmin_abs  tempmin_med  \n",
       "0         30.7         14.6         18.9  \n",
       "1         30.4         16.8         21.1  \n",
       "2         29.9         17.3         19.7  \n",
       "3         26.8         13.4         16.8  \n",
       "4         23.8          9.0         14.3  "
      ]
     },
     "execution_count": 3,
     "metadata": {},
     "output_type": "execute_result"
    }
   ],
   "source": [
    "# Carregando os dados\n",
    "data = pd.read_csv('dados/dados1975-2015.csv')\n",
    "data.head()"
   ]
  },
  {
   "cell_type": "code",
   "execution_count": 31,
   "metadata": {},
   "outputs": [],
   "source": [
    "# Definindo variáveis x e y\n",
    "X = data['ano'].values\n",
    "Y = data['chuva'].values"
   ]
  },
  {
   "cell_type": "code",
   "execution_count": 32,
   "metadata": {},
   "outputs": [
    {
     "data": {
      "image/png": "[encoded data removed]",
      "text/plain": [
       "<Figure size 432x288 with 1 Axes>"
      ]
     },
     "metadata": {},
     "output_type": "display_data"
    }
   ],
   "source": [
    "#Chamando a Função e mostrando o grafico \n",
    "plt.scatter(X,Y)\n",
    "plt.show()"
   ]
  },
  {
   "cell_type": "code",
   "execution_count": 33,
   "metadata": {},
   "outputs": [
    {
     "data": {
      "image/png": "[encoded data removed]",
      "text/plain": [
       "<Figure size 432x288 with 1 Axes>"
      ]
     },
     "metadata": {},
     "output_type": "display_data"
    }
   ],
   "source": [
    "plt.plot(X,Y)\n",
    "plt.show()"
   ]
  },
  {
   "cell_type": "code",
   "execution_count": 9,
   "metadata": {},
   "outputs": [],
   "source": [
    "plt.style.use(\"ggplot\")"
   ]
  },
  {
   "cell_type": "code",
   "execution_count": 10,
   "metadata": {},
   "outputs": [
    {
     "name": "stdout",
     "output_type": "stream",
     "text": [
      "nan nan\n"
     ]
    }
   ],
   "source": [
    "# Calculando os Coeficientes\n",
    "\n",
    "# Média de x e y\n",
    "mean_x = np.mean(X)\n",
    "mean_y = np.mean(Y)\n",
    "\n",
    "# Número total de valores\n",
    "n = len(X)\n",
    "\n",
    "# Usando a fórmula para calcular a e b\n",
    "numer = 0\n",
    "denom = 0\n",
    "\n",
    "for i in range(n):\n",
    "    numer += (X[i] - mean_x) * (Y[i] - mean_y)\n",
    "    denom += (X[i] - mean_x) ** 2\n",
    "\n",
    "b = numer / denom\n",
    "a = mean_y - (b * mean_x)\n",
    "\n",
    "# Imprimindo os coeficientes\n",
    "print(a, b)"
   ]
  },
  {
   "cell_type": "code",
   "execution_count": null,
   "metadata": {},
   "outputs": [],
   "source": [
    "# Fazendo previsões\n",
    "\n",
    "# y = a + bx\n",
    "\n",
    "y = 325.57 + (0.26 * 4450)\n",
    "print(\"O ....:\", y)"
   ]
  },
  {
   "cell_type": "markdown",
   "metadata": {
    "collapsed": true
   },
   "source": [
    "# Fim"
   ]
  },
  {
   "cell_type": "markdown",
   "metadata": {},
   "source": [
    "### Obrigado "
   ]
  }
 ],
 "metadata": {
  "kernelspec": {
   "display_name": "Python 3 (ipykernel)",
   "language": "python",
   "name": "python3"
  },
  "language_info": {
   "codemirror_mode": {
    "name": "ipython",
    "version": 3
   },
   "file_extension": ".py",
   "mimetype": "text/x-python",
   "name": "python",
   "nbconvert_exporter": "python",
   "pygments_lexer": "ipython3",
   "version": "3.9.7"
  }
 },
 "nbformat": 4,
 "nbformat_minor": 2
}
